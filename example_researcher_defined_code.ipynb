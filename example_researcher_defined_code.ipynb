{
 "cells": [
  {
   "cell_type": "code",
   "execution_count": 11,
   "id": "b1e17990",
   "metadata": {},
   "outputs": [],
   "source": [
    "#This is an example for the researcher defined code\n",
    "import ReinLifeResearcher"
   ]
  },
  {
   "cell_type": "code",
   "execution_count": 12,
   "id": "ff5d90f7",
   "metadata": {},
   "outputs": [],
   "source": [
    "def researcher_RL_code(Userid):\n",
    "    \"\"\"\n",
    "    researcher defined ML code\n",
    "    This should be considered as a template\n",
    "    This code takes in user information(answers) of one user, and output a action (for now, a message)\n",
    "    \"\"\"\n",
    "    \n",
    "    #get_answers should be considered as an API which allow researchers to customize the information they want\n",
    "    #In this example, we are getting all answers for that user for simplicity\n",
    "    answers=ReinLifeResearcher.get_answers(Userid,'all')\n",
    "    \n",
    "    #Here, we should better check answers to make sure the format is correct!\n",
    "    \n",
    "    def answers_to_state_reward(answers):\n",
    "        \"\"\"\n",
    "        Turn user answers into state and reward\n",
    "        In this example, we are calculating the proportion of 'broccoli' and 'asparagus'\n",
    "        \"\"\"\n",
    "        from collections import Counter\n",
    "        #print(answers)\n",
    "        food_names = [item[0] for item in answers]\n",
    "        #print(food_names)\n",
    "        counts = Counter(food_names)\n",
    "        \n",
    "        return counts\n",
    "    def RL_algorithm(state_reward):\n",
    "        \"\"\"\n",
    "        A dummy RL method. To be implemented by researchers\n",
    "        The example is simply counting the number of having greens as meal\n",
    "        \"\"\"\n",
    "        ngreens=state_reward['broccoli']+state_reward['asparagus']\n",
    "        if ngreens>=3:\n",
    "            action=f\"Ate greens for {ngreens} times, good job eating your greens\"\n",
    "        else:\n",
    "            action=f'Ate greens for {ngreens} times, try to eat more greens'\n",
    "        return action\n",
    "    \n",
    "    state_reward=answers_to_state_reward(answers) \n",
    "    #print(state_reward)\n",
    "    action=RL_algorithm(state_reward)\n",
    "    #print(action)\n",
    "    \n",
    "    return action  \n",
    "def push_notification(Userid, message):\n",
    "    \"\"\"\n",
    "    This is a function that need to be implemented\n",
    "    This function pushes a notification with a specific message to the front end\n",
    "    \"\"\"\n",
    "    print(\"notification to be implemented: \"+message)\n",
    "    notification2db(Userid, message)\n",
    "\n",
    "#A function that do loop for all the users in an experiment\n",
    "def RL_all_useres():\n",
    "    Userlist=ReinLifeResearcher.list_all_userid()\n",
    "    for Userid in Userlist:\n",
    "        print(f\"Now, doing RL for User:{Userid}\")\n",
    "        actionmessage=researcher_RL_code(Userid)\n",
    "        push_notification(Userid,actionmessage)\n",
    "        \n",
    "#Need to be implemented:\n",
    "#We still need a scheduler to set when to push notification, when to run RL algorithm\n",
    "#A function that set the ID of questionnaire to answer (optional)\n",
    "\n"
   ]
  },
  {
   "cell_type": "code",
   "execution_count": 14,
   "id": "480ebf6b",
   "metadata": {},
   "outputs": [],
   "source": [
    "ReinLifeResearcher.set_experiment()\n",
    "ReinLifeResearcher.set_questionnaires()"
   ]
  },
  {
   "cell_type": "code",
   "execution_count": 16,
   "id": "0c0da90f",
   "metadata": {},
   "outputs": [
    {
     "name": "stdout",
     "output_type": "stream",
     "text": [
      "['IL8CRlPNHy5sGcWZkwBY', 'caZSPlKe5eUPEkxqwkjp']\n"
     ]
    },
    {
     "data": {
      "text/plain": [
       "['IL8CRlPNHy5sGcWZkwBY', 'caZSPlKe5eUPEkxqwkjp']"
      ]
     },
     "execution_count": 16,
     "metadata": {},
     "output_type": "execute_result"
    }
   ],
   "source": [
    "ReinLifeResearcher.list_all_userid()"
   ]
  },
  {
   "cell_type": "code",
   "execution_count": 9,
   "id": "c72b4da9",
   "metadata": {},
   "outputs": [
    {
     "name": "stdout",
     "output_type": "stream",
     "text": [
      "get User:caZSPlKe5eUPEkxqwkjp answers: all\n",
      "['asparagus', 5, 'No']\n",
      "['burger', 5, 'No']\n"
     ]
    }
   ],
   "source": [
    "food_names=researcher_RL_code('caZSPlKe5eUPEkxqwkjp')\n",
    "food_names"
   ]
  },
  {
   "cell_type": "code",
   "execution_count": 44,
   "id": "4f7bba4d",
   "metadata": {},
   "outputs": [
    {
     "name": "stdout",
     "output_type": "stream",
     "text": [
      "['IL8CRlPNHy5sGcWZkwBY', 'caZSPlKe5eUPEkxqwkjp']\n",
      "Now, doing RL for User:IL8CRlPNHy5sGcWZkwBY\n",
      "get User:IL8CRlPNHy5sGcWZkwBY answers: all\n",
      "notification to be implemented: Ate greens for 0 times, try to eat more greens\n",
      "Now, doing RL for User:caZSPlKe5eUPEkxqwkjp\n",
      "get User:caZSPlKe5eUPEkxqwkjp answers: all\n",
      "['asparagus', 5, 'No']\n",
      "['burger', 5, 'No']\n",
      "notification to be implemented: Ate greens for 1 times, try to eat more greens\n"
     ]
    }
   ],
   "source": [
    "RL_all_useres()"
   ]
  }
 ],
 "metadata": {
  "kernelspec": {
   "display_name": "reinlife",
   "language": "python",
   "name": "reinlife"
  },
  "language_info": {
   "codemirror_mode": {
    "name": "ipython",
    "version": 3
   },
   "file_extension": ".py",
   "mimetype": "text/x-python",
   "name": "python",
   "nbconvert_exporter": "python",
   "pygments_lexer": "ipython3",
   "version": "3.9.18"
  },
  "varInspector": {
   "cols": {
    "lenName": 16,
    "lenType": 16,
    "lenVar": 40
   },
   "kernels_config": {
    "python": {
     "delete_cmd_postfix": "",
     "delete_cmd_prefix": "del ",
     "library": "var_list.py",
     "varRefreshCmd": "print(var_dic_list())"
    },
    "r": {
     "delete_cmd_postfix": ") ",
     "delete_cmd_prefix": "rm(",
     "library": "var_list.r",
     "varRefreshCmd": "cat(var_dic_list()) "
    }
   },
   "types_to_exclude": [
    "module",
    "function",
    "builtin_function_or_method",
    "instance",
    "_Feature"
   ],
   "window_display": false
  }
 },
 "nbformat": 4,
 "nbformat_minor": 5
}
