{
 "cells": [
  {
   "cell_type": "code",
   "execution_count": 1,
   "id": "b1e17990",
   "metadata": {},
   "outputs": [],
   "source": [
    "#This is an example for the researcher defined code\n",
    "import ReinLifeResearcher"
   ]
  },
  {
   "cell_type": "code",
   "execution_count": null,
   "id": "ff5d90f7",
   "metadata": {},
   "outputs": [],
   "source": [
    "def researcher_RL_code(Userid):\n",
    "    \"\"\"\n",
    "    researcher defined ML code\n",
    "    This should be considered as a template\n",
    "    This code takes in user information(answers) of one user, and output a action (for now, a message)\n",
    "    \"\"\"\n",
    "    \n",
    "    #get_answers should be considered as an API which allow researchers to customize the information they want\n",
    "    #In this example, we are getting all answers for that user for simplicity\n",
    "    answers=ReinLifeResearcher.get_answers(Userid,'all')\n",
    "    \n",
    "    #Here, we should better in the future check answers to make sure the format is correct!\n",
    "    #XXX\n",
    "    \n",
    "    \n",
    "    def answers_to_state_reward(answers):\n",
    "        \"\"\"\n",
    "        Turn user answers into state and reward\n",
    "        In this dummy example, we are simply calculating the proportion of 'broccoli' and 'asparagus'\n",
    "        \"\"\"\n",
    "        from collections import Counter\n",
    "        #print(answers)\n",
    "        food_names = [item[0] for item in answers]\n",
    "        #print(food_names)\n",
    "        counts = Counter(food_names)\n",
    "        \n",
    "        return counts\n",
    "    def RL_algorithm(state_reward):\n",
    "        \"\"\"\n",
    "        A dummy RL method. To be implemented by researchers\n",
    "        The example is simply counting the number of having greens as meal\n",
    "        \"\"\"\n",
    "        ngreens=state_reward['broccoli']+state_reward['asparagus']\n",
    "        if ngreens>=3:\n",
    "            action=f\"Ate greens for {ngreens} times, good job eating your greens\"\n",
    "        else:\n",
    "            action=f'Ate greens for {ngreens} times, try to eat more greens'\n",
    "        return action\n",
    "    \n",
    "    state_reward=answers_to_state_reward(answers) \n",
    "    #print(state_reward)\n",
    "    action=RL_algorithm(state_reward)\n",
    "    #print(action)\n",
    "    \n",
    "    return action  \n",
    "def push_intervention(Userid, message):\n",
    "    \"\"\"\n",
    "    This function save a specific message to the database\n",
    "    (The message will then be pushed to the frontend)\n",
    "    \"\"\"\n",
    "    print(\"notification to be implemented: \"+message)\n",
    "    ReinLifeResearcher.notification2db(Userid, message=message, option='message')\n",
    "\n",
    "\n",
    "def RL_all_useres():\n",
    "    '''\n",
    "    This is a helper function that do loop to run RL algorithm for all the users in an experiment\n",
    "    '''\n",
    "    Userlist=ReinLifeResearcher.list_all_userid()\n",
    "    for Userid in Userlist:\n",
    "        print(f\"Now, doing RL for User:{Userid}\")\n",
    "        actionmessage=researcher_RL_code(Userid)\n",
    "        push_intervention(Userid,actionmessage)\n",
    "        \n",
    "#Probably need to be implemented(?):\n",
    "#We still need a scheduler (or trigger) to set when to push notification, when to run RL algorithm"
   ]
  },
  {
   "cell_type": "code",
   "execution_count": 4,
   "id": "81b189a5",
   "metadata": {},
   "outputs": [],
   "source": [
    "#Use this function to set experiments\n",
    "ReinLifeResearcher.set_experiment(inputfile='./experiment_info.json')\n",
    "#Use this function to set questionnaires. The \n",
    "ReinLifeResearcher.set_questionnaires(inputfile='./questionnairesbackup.json')"
   ]
  },
  {
   "cell_type": "code",
   "execution_count": 4,
   "id": "a6f4f406",
   "metadata": {},
   "outputs": [
    {
     "name": "stdout",
     "output_type": "stream",
     "text": [
      "['cSyr83jlR_y566Wes1SpBV:APA91bFR3iO6yBQYDATBAWFxXL70K-QASXEgseiLHqfmfJ2jRGdZwyJ1y4-2W4bCQqcjQVdfppcr1w5ZDhOfxu3GM2op24071jxs74IWJ2_P7m1B8G1gZ6BBsAx1ilDkwFsBeRGSaUyw', 'caZSPlKe5eUPEkxqwkjp', 'dOoGpQrZQXWMdYHSbiNqvG:APA91bHr5cHG686-hbp6rY2hHr_xthdjHsZ2iXjc7Ut7kIaOUeiPuoI76b9hR2H9tL84iSWdJb4_971tmdc5KGdqgoPNDm8Nfs-RL83xwKABMvdvXbtZE3ZfjNe75LEFzQawryUuJUeV', 'dWS9E-frRKuqxKOlJgoTBh:APA91bFYev_2fJ9UIND-RoTtQM-5H-FTGrIcm0kSGnSsflfCwFdByO9GeHIGMHmtYeIGEsdJYGgtXhhDf9gmgwksKqwXgwNKK4CRf99nEQFo1lAAi4AS5qSV0NWvz1DhgV3Mw1248obR', 'd_H8bZGtoUHEvWbFIZwGzl:APA91bFAkriVeNPLgLy4h5MLDeYD33wj2P1KPi8GLEf54svjtEGgnWMUqG534e4IMaQ-gM6pineHr1hhxzpAmzzOui671GuFcrMJxL_GQQdRPM4GKr88byalUne3vX6q7UGtk1xdSBgF', 'fQw1fphxQUGjTsuV1H0kci:APA91bFCtUasvCOgYCY0g_fzbdXx1aRkPdMMdQlmsaRw4-j1Q8yHCVfV3eNYJbL8ahfDsJV2aZ1Le8L2c2WNpNQGu3WA_SJmBx_EhRJKCxNpElcFtG8sM8lUD7luAGkqjko18LtJo-WT', 'fe-PP-nVJEhpshohTKk_ey:APA91bEioIlo9dwpSt5_dTXY8vnSe87OiURAk_ZU8MaK3TYK-IBfCPwF2jvxhUuaztwHJy8clJy8oznS3ENpHvX4IRZK7IGBjvGSAR6OD25_HqE6WWoQ6E2mK7AlAJWEXcIXx7b9rd1c', 'flChN4GxTaO87uQ-2_sU4z:APA91bHPnhM796Z9vu-c7lWW3hIypQjE4RHv9nwVSO7tBwhpHHvnsMRYEsMKIK5aj0quR4WbkQ01CjRKHknG0vEY6EJhHN1txmfklpWVZSlY_quzURsF5R6et3m69tU_gP27wZF0EHES']\n"
     ]
    },
    {
     "data": {
      "text/plain": [
       "['cSyr83jlR_y566Wes1SpBV:APA91bFR3iO6yBQYDATBAWFxXL70K-QASXEgseiLHqfmfJ2jRGdZwyJ1y4-2W4bCQqcjQVdfppcr1w5ZDhOfxu3GM2op24071jxs74IWJ2_P7m1B8G1gZ6BBsAx1ilDkwFsBeRGSaUyw',\n",
       " 'caZSPlKe5eUPEkxqwkjp',\n",
       " 'dOoGpQrZQXWMdYHSbiNqvG:APA91bHr5cHG686-hbp6rY2hHr_xthdjHsZ2iXjc7Ut7kIaOUeiPuoI76b9hR2H9tL84iSWdJb4_971tmdc5KGdqgoPNDm8Nfs-RL83xwKABMvdvXbtZE3ZfjNe75LEFzQawryUuJUeV',\n",
       " 'dWS9E-frRKuqxKOlJgoTBh:APA91bFYev_2fJ9UIND-RoTtQM-5H-FTGrIcm0kSGnSsflfCwFdByO9GeHIGMHmtYeIGEsdJYGgtXhhDf9gmgwksKqwXgwNKK4CRf99nEQFo1lAAi4AS5qSV0NWvz1DhgV3Mw1248obR',\n",
       " 'd_H8bZGtoUHEvWbFIZwGzl:APA91bFAkriVeNPLgLy4h5MLDeYD33wj2P1KPi8GLEf54svjtEGgnWMUqG534e4IMaQ-gM6pineHr1hhxzpAmzzOui671GuFcrMJxL_GQQdRPM4GKr88byalUne3vX6q7UGtk1xdSBgF',\n",
       " 'fQw1fphxQUGjTsuV1H0kci:APA91bFCtUasvCOgYCY0g_fzbdXx1aRkPdMMdQlmsaRw4-j1Q8yHCVfV3eNYJbL8ahfDsJV2aZ1Le8L2c2WNpNQGu3WA_SJmBx_EhRJKCxNpElcFtG8sM8lUD7luAGkqjko18LtJo-WT',\n",
       " 'fe-PP-nVJEhpshohTKk_ey:APA91bEioIlo9dwpSt5_dTXY8vnSe87OiURAk_ZU8MaK3TYK-IBfCPwF2jvxhUuaztwHJy8clJy8oznS3ENpHvX4IRZK7IGBjvGSAR6OD25_HqE6WWoQ6E2mK7AlAJWEXcIXx7b9rd1c',\n",
       " 'flChN4GxTaO87uQ-2_sU4z:APA91bHPnhM796Z9vu-c7lWW3hIypQjE4RHv9nwVSO7tBwhpHHvnsMRYEsMKIK5aj0quR4WbkQ01CjRKHknG0vEY6EJhHN1txmfklpWVZSlY_quzURsF5R6et3m69tU_gP27wZF0EHES']"
      ]
     },
     "execution_count": 4,
     "metadata": {},
     "output_type": "execute_result"
    }
   ],
   "source": [
    "#This is a helper function to list all user's id in the database\n",
    "ReinLifeResearcher.list_all_userid()"
   ]
  },
  {
   "cell_type": "code",
   "execution_count": 5,
   "id": "b7f33c9d",
   "metadata": {},
   "outputs": [
    {
     "name": "stdout",
     "output_type": "stream",
     "text": [
      "saved questionnaire reminder, title: \"new questionnaire!\"  ID: \"1\" to database!\n"
     ]
    }
   ],
   "source": [
    "#Use this function to remind answers to take the questionnaire survey\n",
    "ReinLifeResearcher.notification2db('cSyr83jlR_y566Wes1SpBV:APA91bFR3iO6yBQYDATBAWFxXL70K-QASXEgseiLHqfmfJ2jRGdZwyJ1y4-2W4bCQqcjQVdfppcr1w5ZDhOfxu3GM2op24071jxs74IWJ2_P7m1B8G1gZ6BBsAx1ilDkwFsBeRGSaUyw',title='new questionnaire!',option='questionnaire',questionnaireID=1)"
   ]
  },
  {
   "cell_type": "code",
   "execution_count": 6,
   "id": "c72b4da9",
   "metadata": {},
   "outputs": [
    {
     "name": "stdout",
     "output_type": "stream",
     "text": [
      "getting answers of User:cSyr83jlR_y566Wes1SpBV:APA91bFR3iO6yBQYDATBAWFxXL70K-QASXEgseiLHqfmfJ2jRGdZwyJ1y4-2W4bCQqcjQVdfppcr1w5ZDhOfxu3GM2op24071jxs74IWJ2_P7m1B8G1gZ6BBsAx1ilDkwFsBeRGSaUyw, option: all\n",
      "['5', 3.0, 'No']\n"
     ]
    },
    {
     "data": {
      "text/plain": [
       "'Ate greens for 0 times, try to eat more greens'"
      ]
     },
     "execution_count": 6,
     "metadata": {},
     "output_type": "execute_result"
    }
   ],
   "source": [
    "#This is an example running RL algorithm for user with ID 'caZSPlKe5eUPEkxqwkjp'\n",
    "message=researcher_RL_code('cSyr83jlR_y566Wes1SpBV:APA91bFR3iO6yBQYDATBAWFxXL70K-QASXEgseiLHqfmfJ2jRGdZwyJ1y4-2W4bCQqcjQVdfppcr1w5ZDhOfxu3GM2op24071jxs74IWJ2_P7m1B8G1gZ6BBsAx1ilDkwFsBeRGSaUyw')\n",
    "message"
   ]
  },
  {
   "cell_type": "code",
   "execution_count": 7,
   "id": "4f7bba4d",
   "metadata": {},
   "outputs": [
    {
     "name": "stdout",
     "output_type": "stream",
     "text": [
      "['cSyr83jlR_y566Wes1SpBV:APA91bFR3iO6yBQYDATBAWFxXL70K-QASXEgseiLHqfmfJ2jRGdZwyJ1y4-2W4bCQqcjQVdfppcr1w5ZDhOfxu3GM2op24071jxs74IWJ2_P7m1B8G1gZ6BBsAx1ilDkwFsBeRGSaUyw', 'caZSPlKe5eUPEkxqwkjp', 'dOoGpQrZQXWMdYHSbiNqvG:APA91bHr5cHG686-hbp6rY2hHr_xthdjHsZ2iXjc7Ut7kIaOUeiPuoI76b9hR2H9tL84iSWdJb4_971tmdc5KGdqgoPNDm8Nfs-RL83xwKABMvdvXbtZE3ZfjNe75LEFzQawryUuJUeV', 'dWS9E-frRKuqxKOlJgoTBh:APA91bFYev_2fJ9UIND-RoTtQM-5H-FTGrIcm0kSGnSsflfCwFdByO9GeHIGMHmtYeIGEsdJYGgtXhhDf9gmgwksKqwXgwNKK4CRf99nEQFo1lAAi4AS5qSV0NWvz1DhgV3Mw1248obR', 'd_H8bZGtoUHEvWbFIZwGzl:APA91bFAkriVeNPLgLy4h5MLDeYD33wj2P1KPi8GLEf54svjtEGgnWMUqG534e4IMaQ-gM6pineHr1hhxzpAmzzOui671GuFcrMJxL_GQQdRPM4GKr88byalUne3vX6q7UGtk1xdSBgF', 'fQw1fphxQUGjTsuV1H0kci:APA91bFCtUasvCOgYCY0g_fzbdXx1aRkPdMMdQlmsaRw4-j1Q8yHCVfV3eNYJbL8ahfDsJV2aZ1Le8L2c2WNpNQGu3WA_SJmBx_EhRJKCxNpElcFtG8sM8lUD7luAGkqjko18LtJo-WT', 'fe-PP-nVJEhpshohTKk_ey:APA91bEioIlo9dwpSt5_dTXY8vnSe87OiURAk_ZU8MaK3TYK-IBfCPwF2jvxhUuaztwHJy8clJy8oznS3ENpHvX4IRZK7IGBjvGSAR6OD25_HqE6WWoQ6E2mK7AlAJWEXcIXx7b9rd1c', 'flChN4GxTaO87uQ-2_sU4z:APA91bHPnhM796Z9vu-c7lWW3hIypQjE4RHv9nwVSO7tBwhpHHvnsMRYEsMKIK5aj0quR4WbkQ01CjRKHknG0vEY6EJhHN1txmfklpWVZSlY_quzURsF5R6et3m69tU_gP27wZF0EHES']\n",
      "Now, doing RL for User:cSyr83jlR_y566Wes1SpBV:APA91bFR3iO6yBQYDATBAWFxXL70K-QASXEgseiLHqfmfJ2jRGdZwyJ1y4-2W4bCQqcjQVdfppcr1w5ZDhOfxu3GM2op24071jxs74IWJ2_P7m1B8G1gZ6BBsAx1ilDkwFsBeRGSaUyw\n",
      "getting answers of User:cSyr83jlR_y566Wes1SpBV:APA91bFR3iO6yBQYDATBAWFxXL70K-QASXEgseiLHqfmfJ2jRGdZwyJ1y4-2W4bCQqcjQVdfppcr1w5ZDhOfxu3GM2op24071jxs74IWJ2_P7m1B8G1gZ6BBsAx1ilDkwFsBeRGSaUyw, option: all\n",
      "['5', 3.0, 'No']\n",
      "notification to be implemented: Ate greens for 0 times, try to eat more greens\n",
      "saved notification \"Ate greens for 0 times, try to eat more greens\" to database!\n",
      "Now, doing RL for User:caZSPlKe5eUPEkxqwkjp\n",
      "getting answers of User:caZSPlKe5eUPEkxqwkjp, option: all\n"
     ]
    },
    {
     "ename": "KeyError",
     "evalue": "'answers'",
     "output_type": "error",
     "traceback": [
      "\u001b[0;31m---------------------------------------------------------------------------\u001b[0m",
      "\u001b[0;31mKeyError\u001b[0m                                  Traceback (most recent call last)",
      "Cell \u001b[0;32mIn[7], line 2\u001b[0m\n\u001b[1;32m      1\u001b[0m \u001b[38;5;66;03m#This is an example running RL algorithm for all users in the database\u001b[39;00m\n\u001b[0;32m----> 2\u001b[0m \u001b[43mRL_all_useres\u001b[49m\u001b[43m(\u001b[49m\u001b[43m)\u001b[49m\n",
      "Cell \u001b[0;32mIn[2], line 62\u001b[0m, in \u001b[0;36mRL_all_useres\u001b[0;34m()\u001b[0m\n\u001b[1;32m     60\u001b[0m \u001b[38;5;28;01mfor\u001b[39;00m Userid \u001b[38;5;129;01min\u001b[39;00m Userlist:\n\u001b[1;32m     61\u001b[0m     \u001b[38;5;28mprint\u001b[39m(\u001b[38;5;124mf\u001b[39m\u001b[38;5;124m\"\u001b[39m\u001b[38;5;124mNow, doing RL for User:\u001b[39m\u001b[38;5;132;01m{\u001b[39;00mUserid\u001b[38;5;132;01m}\u001b[39;00m\u001b[38;5;124m\"\u001b[39m)\n\u001b[0;32m---> 62\u001b[0m     actionmessage\u001b[38;5;241m=\u001b[39m\u001b[43mresearcher_RL_code\u001b[49m\u001b[43m(\u001b[49m\u001b[43mUserid\u001b[49m\u001b[43m)\u001b[49m\n\u001b[1;32m     63\u001b[0m     push_intervention(Userid,actionmessage)\n",
      "Cell \u001b[0;32mIn[2], line 10\u001b[0m, in \u001b[0;36mresearcher_RL_code\u001b[0;34m(Userid)\u001b[0m\n\u001b[1;32m      2\u001b[0m \u001b[38;5;250m\u001b[39m\u001b[38;5;124;03m\"\"\"\u001b[39;00m\n\u001b[1;32m      3\u001b[0m \u001b[38;5;124;03mresearcher defined ML code\u001b[39;00m\n\u001b[1;32m      4\u001b[0m \u001b[38;5;124;03mThis should be considered as a template\u001b[39;00m\n\u001b[1;32m      5\u001b[0m \u001b[38;5;124;03mThis code takes in user information(answers) of one user, and output a action (for now, a message)\u001b[39;00m\n\u001b[1;32m      6\u001b[0m \u001b[38;5;124;03m\"\"\"\u001b[39;00m\n\u001b[1;32m      8\u001b[0m \u001b[38;5;66;03m#get_answers should be considered as an API which allow researchers to customize the information they want\u001b[39;00m\n\u001b[1;32m      9\u001b[0m \u001b[38;5;66;03m#In this example, we are getting all answers for that user for simplicity\u001b[39;00m\n\u001b[0;32m---> 10\u001b[0m answers\u001b[38;5;241m=\u001b[39m\u001b[43mReinLifeResearcher\u001b[49m\u001b[38;5;241;43m.\u001b[39;49m\u001b[43mget_answers\u001b[49m\u001b[43m(\u001b[49m\u001b[43mUserid\u001b[49m\u001b[43m,\u001b[49m\u001b[38;5;124;43m'\u001b[39;49m\u001b[38;5;124;43mall\u001b[39;49m\u001b[38;5;124;43m'\u001b[39;49m\u001b[43m)\u001b[49m\n\u001b[1;32m     12\u001b[0m \u001b[38;5;66;03m#Here, we should better in the future check answers to make sure the format is correct!\u001b[39;00m\n\u001b[1;32m     13\u001b[0m \u001b[38;5;66;03m#XXX\u001b[39;00m\n\u001b[1;32m     16\u001b[0m \u001b[38;5;28;01mdef\u001b[39;00m \u001b[38;5;21manswers_to_state_reward\u001b[39m(answers):\n",
      "File \u001b[0;32m~/Documents/GitHub/flask_reinlife/server2firestore.py:56\u001b[0m, in \u001b[0;36mget_answers\u001b[0;34m(Userid, option)\u001b[0m\n\u001b[1;32m     54\u001b[0m \u001b[38;5;28;01mif\u001b[39;00m option\u001b[38;5;241m==\u001b[39m\u001b[38;5;124m'\u001b[39m\u001b[38;5;124mall\u001b[39m\u001b[38;5;124m'\u001b[39m:\n\u001b[1;32m     55\u001b[0m     answers \u001b[38;5;241m=\u001b[39m users_with_specific_uid\u001b[38;5;241m.\u001b[39mcollection(\u001b[38;5;124m'\u001b[39m\u001b[38;5;124muser answers\u001b[39m\u001b[38;5;124m'\u001b[39m)\u001b[38;5;241m.\u001b[39mstream()\n\u001b[0;32m---> 56\u001b[0m     myanswers\u001b[38;5;241m=\u001b[39m[answer_doc\u001b[38;5;241m.\u001b[39mto_dict()[\u001b[38;5;124m'\u001b[39m\u001b[38;5;124manswers\u001b[39m\u001b[38;5;124m'\u001b[39m] \u001b[38;5;28;01mfor\u001b[39;00m answer_doc \u001b[38;5;129;01min\u001b[39;00m answers]\n\u001b[1;32m     57\u001b[0m     \u001b[38;5;28;01mfor\u001b[39;00m answer \u001b[38;5;129;01min\u001b[39;00m myanswers:\n\u001b[1;32m     58\u001b[0m         \u001b[38;5;28mprint\u001b[39m(answer)\n",
      "File \u001b[0;32m~/Documents/GitHub/flask_reinlife/server2firestore.py:56\u001b[0m, in \u001b[0;36m<listcomp>\u001b[0;34m(.0)\u001b[0m\n\u001b[1;32m     54\u001b[0m \u001b[38;5;28;01mif\u001b[39;00m option\u001b[38;5;241m==\u001b[39m\u001b[38;5;124m'\u001b[39m\u001b[38;5;124mall\u001b[39m\u001b[38;5;124m'\u001b[39m:\n\u001b[1;32m     55\u001b[0m     answers \u001b[38;5;241m=\u001b[39m users_with_specific_uid\u001b[38;5;241m.\u001b[39mcollection(\u001b[38;5;124m'\u001b[39m\u001b[38;5;124muser answers\u001b[39m\u001b[38;5;124m'\u001b[39m)\u001b[38;5;241m.\u001b[39mstream()\n\u001b[0;32m---> 56\u001b[0m     myanswers\u001b[38;5;241m=\u001b[39m[\u001b[43manswer_doc\u001b[49m\u001b[38;5;241;43m.\u001b[39;49m\u001b[43mto_dict\u001b[49m\u001b[43m(\u001b[49m\u001b[43m)\u001b[49m\u001b[43m[\u001b[49m\u001b[38;5;124;43m'\u001b[39;49m\u001b[38;5;124;43manswers\u001b[39;49m\u001b[38;5;124;43m'\u001b[39;49m\u001b[43m]\u001b[49m \u001b[38;5;28;01mfor\u001b[39;00m answer_doc \u001b[38;5;129;01min\u001b[39;00m answers]\n\u001b[1;32m     57\u001b[0m     \u001b[38;5;28;01mfor\u001b[39;00m answer \u001b[38;5;129;01min\u001b[39;00m myanswers:\n\u001b[1;32m     58\u001b[0m         \u001b[38;5;28mprint\u001b[39m(answer)\n",
      "\u001b[0;31mKeyError\u001b[0m: 'answers'"
     ]
    }
   ],
   "source": [
    "#This is an example running RL algorithm for all users in the database\n",
    "RL_all_useres()"
   ]
  },
  {
   "cell_type": "code",
   "execution_count": null,
   "id": "4e5449cb",
   "metadata": {},
   "outputs": [],
   "source": []
  },
  {
   "cell_type": "code",
   "execution_count": null,
   "id": "6a20f511",
   "metadata": {},
   "outputs": [],
   "source": []
  }
 ],
 "metadata": {
  "kernelspec": {
   "display_name": "reinlife",
   "language": "python",
   "name": "reinlife"
  },
  "language_info": {
   "codemirror_mode": {
    "name": "ipython",
    "version": 3
   },
   "file_extension": ".py",
   "mimetype": "text/x-python",
   "name": "python",
   "nbconvert_exporter": "python",
   "pygments_lexer": "ipython3",
   "version": "3.9.18"
  },
  "varInspector": {
   "cols": {
    "lenName": 16,
    "lenType": 16,
    "lenVar": 40
   },
   "kernels_config": {
    "python": {
     "delete_cmd_postfix": "",
     "delete_cmd_prefix": "del ",
     "library": "var_list.py",
     "varRefreshCmd": "print(var_dic_list())"
    },
    "r": {
     "delete_cmd_postfix": ") ",
     "delete_cmd_prefix": "rm(",
     "library": "var_list.r",
     "varRefreshCmd": "cat(var_dic_list()) "
    }
   },
   "types_to_exclude": [
    "module",
    "function",
    "builtin_function_or_method",
    "instance",
    "_Feature"
   ],
   "window_display": false
  }
 },
 "nbformat": 4,
 "nbformat_minor": 5
}
