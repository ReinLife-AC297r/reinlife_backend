{
 "cells": [
  {
   "cell_type": "code",
   "execution_count": 10,
   "id": "b1e17990",
   "metadata": {},
   "outputs": [],
   "source": [
    "#Need to be published as a py file\n",
    "# import firebase_admin\n",
    "# from firebase_admin import credentials\n",
    "# from firebase_admin import firestore\n",
    "\n",
    "# cred = credentials.Certificate(\"./reinlife-915bd-firebase-adminsdk-hydd2-96cf9b9942.json\")\n",
    "# if not firebase_admin._apps:\n",
    "#     firebase_admin.initialize_app(cred)\n",
    "# db = firestore.client()\n",
    "import ReinLifeResearcher\n",
    "from datetime import datetime\n",
    "import firebase_admin\n",
    "from firebase_admin import credentials, firestore\n",
    "cred = credentials.Certificate(\"./flutternotification-ebd50-firebase-adminsdk-dum2k-315e67534e.json\")\n",
    "#firebase_admin.initialize_app(cred)\n",
    "db = firestore.client()"
   ]
  },
  {
   "cell_type": "code",
   "execution_count": 33,
   "id": "ff5d90f7",
   "metadata": {},
   "outputs": [],
   "source": [
    "\n",
    "\n",
    "def researcher_RL_code(Userid):\n",
    "    \"\"\"\n",
    "    researcher defined ML code\n",
    "    This should be considered as a template\n",
    "    This code takes in user information(answers) of one user, and output a action (for now, a message)\n",
    "    \"\"\"\n",
    "    \n",
    "    #get_answers should be considered as an API which allow researchers to customize the information they want\n",
    "    #In this example, we are getting all answers for that user for simplicity\n",
    "    answers=ReinLifeResearcher.get_answers(Userid,'all')\n",
    "    \n",
    "    #Here, we should better check answers to make sure the format is correct!\n",
    "    \n",
    "    def answers_to_state_reward(answers):\n",
    "        \"\"\"\n",
    "        Turn user answers into state and reward\n",
    "        In this example, we are calculating the proportion of 'broccoli' and 'asparagus'\n",
    "        \"\"\"\n",
    "        from collections import Counter\n",
    "        #print(answers)\n",
    "        food_names = [item[0] for item in answers]\n",
    "        #print(food_names)\n",
    "        counts = Counter(food_names)\n",
    "        \n",
    "        return counts\n",
    "    def RL_algorithm(state_reward):\n",
    "        \"\"\"\n",
    "        A dummy RL method. To be implemented by researchers\n",
    "        The example is simply counting the number of having greens as meal\n",
    "        \"\"\"\n",
    "        ngreens=state_reward['broccoli']+state_reward['asparagus']\n",
    "        if ngreens>=3:\n",
    "            action=f\"Ate greens for {ngreens} times, good job eating your greens\"\n",
    "        else:\n",
    "            action=f'Ate greens for {ngreens} times, try to eat more greens'\n",
    "        return action\n",
    "    \n",
    "    state_reward=answers_to_state_reward(answers) \n",
    "    #print(state_reward)\n",
    "    action=RL_algorithm(state_reward)\n",
    "    #print(action)\n",
    "    \n",
    "    return action  \n",
    "def push_notification(Userid, message):\n",
    "    \"\"\"\n",
    "    This is a function that need to be implemented\n",
    "    This function pushes a notification with a specific message to the front end\n",
    "    \"\"\"\n",
    "    print(\"notification to be implemented: \"+message)\n",
    "    notification2db(Userid, message)\n",
    "    \n",
    "#We still need a scheduler to set when to push notification, when to run RL algorithm\n",
    "\n",
    "\n",
    "#A function that set questionnaire to answer\n",
    "#A function that push notification as a reminder to answer the questionnaire\n",
    "#A function that do loop for all the users in an experiment\n",
    "def RL_all_useres():\n",
    "    Userlist=ReinLifeResearcher.list_all_userid()\n",
    "    for Userid in Userlist:\n",
    "        print(f\"Now, doing RL for User:{Userid}\")\n",
    "        actionmessage=researcher_RL_code(Userid)\n",
    "        push_notification(Userid,actionmessage)\n",
    "        \n"
   ]
  },
  {
   "cell_type": "code",
   "execution_count": 34,
   "id": "e28ba705",
   "metadata": {},
   "outputs": [],
   "source": [
    "def notification2db(Userid, message):\n",
    "    \"\"\"\n",
    "    function for saving notification to database\n",
    "    \"\"\"\n",
    "    collection_notification=db.collection('Users').document(Userid).collection('notification record')\n",
    "    collection_notification.add({\n",
    "        'message': message,\n",
    "        'time': datetime.now() \n",
    "    })"
   ]
  },
  {
   "cell_type": "code",
   "execution_count": 35,
   "id": "e62a10c3",
   "metadata": {},
   "outputs": [],
   "source": [
    "notification2db('caZSPlKe5eUPEkxqwkjp', \"this is a test message: eat greens!\")"
   ]
  },
  {
   "cell_type": "code",
   "execution_count": 37,
   "id": "1a441d9f",
   "metadata": {},
   "outputs": [
    {
     "name": "stdout",
     "output_type": "stream",
     "text": [
      "['IL8CRlPNHy5sGcWZkwBY', 'caZSPlKe5eUPEkxqwkjp']\n",
      "get User:caZSPlKe5eUPEkxqwkjp answers: all\n",
      "['asparagus', 5, 'No']\n",
      "['burger', 5, 'No']\n"
     ]
    },
    {
     "data": {
      "text/plain": [
       "[['asparagus', 5, 'No'], ['burger', 5, 'No']]"
      ]
     },
     "execution_count": 37,
     "metadata": {},
     "output_type": "execute_result"
    }
   ],
   "source": [
    "ReinLifeResearcher.set_experiment()\n",
    "ReinLifeResearcher.set_questionnaires()\n",
    "ReinLifeResearcher.list_all_userid()\n",
    "ReinLifeResearcher.get_answers('caZSPlKe5eUPEkxqwkjp','all')"
   ]
  },
  {
   "cell_type": "code",
   "execution_count": 38,
   "id": "69bf03a0",
   "metadata": {},
   "outputs": [
    {
     "name": "stdout",
     "output_type": "stream",
     "text": [
      "['IL8CRlPNHy5sGcWZkwBY', 'caZSPlKe5eUPEkxqwkjp']\n"
     ]
    },
    {
     "data": {
      "text/plain": [
       "['IL8CRlPNHy5sGcWZkwBY', 'caZSPlKe5eUPEkxqwkjp']"
      ]
     },
     "execution_count": 38,
     "metadata": {},
     "output_type": "execute_result"
    }
   ],
   "source": [
    "userids=ReinLifeResearcher.list_all_userid()\n",
    "userids"
   ]
  },
  {
   "cell_type": "code",
   "execution_count": 39,
   "id": "f30ca9f7",
   "metadata": {},
   "outputs": [
    {
     "name": "stdout",
     "output_type": "stream",
     "text": [
      "get User:caZSPlKe5eUPEkxqwkjp answers: all\n",
      "['asparagus', 5, 'No']\n",
      "['burger', 5, 'No']\n"
     ]
    },
    {
     "data": {
      "text/plain": [
       "[['asparagus', 5, 'No'], ['burger', 5, 'No']]"
      ]
     },
     "execution_count": 39,
     "metadata": {},
     "output_type": "execute_result"
    }
   ],
   "source": [
    "answers=ReinLifeResearcher.get_answers('caZSPlKe5eUPEkxqwkjp','all')\n",
    "answers"
   ]
  },
  {
   "cell_type": "code",
   "execution_count": 40,
   "id": "cf914430",
   "metadata": {},
   "outputs": [
    {
     "name": "stdout",
     "output_type": "stream",
     "text": [
      "get User:IL8CRlPNHy5sGcWZkwBY answers: all\n"
     ]
    },
    {
     "data": {
      "text/plain": [
       "[]"
      ]
     },
     "execution_count": 40,
     "metadata": {},
     "output_type": "execute_result"
    }
   ],
   "source": [
    "answers=ReinLifeResearcher.get_answers('IL8CRlPNHy5sGcWZkwBY','all')\n",
    "answers"
   ]
  },
  {
   "cell_type": "code",
   "execution_count": 41,
   "id": "c72b4da9",
   "metadata": {},
   "outputs": [
    {
     "name": "stdout",
     "output_type": "stream",
     "text": [
      "get User:caZSPlKe5eUPEkxqwkjp answers: all\n",
      "['asparagus', 5, 'No']\n",
      "['burger', 5, 'No']\n"
     ]
    }
   ],
   "source": [
    "food_names=researcher_RL_code('caZSPlKe5eUPEkxqwkjp')"
   ]
  },
  {
   "cell_type": "code",
   "execution_count": 25,
   "id": "10afc064",
   "metadata": {},
   "outputs": [
    {
     "data": {
      "text/plain": [
       "'Ate greens for 0 times, try to eat more greens'"
      ]
     },
     "execution_count": 25,
     "metadata": {},
     "output_type": "execute_result"
    }
   ],
   "source": [
    "food_names"
   ]
  },
  {
   "cell_type": "code",
   "execution_count": null,
   "id": "fb303b62",
   "metadata": {},
   "outputs": [],
   "source": []
  },
  {
   "cell_type": "code",
   "execution_count": 44,
   "id": "4f7bba4d",
   "metadata": {},
   "outputs": [
    {
     "name": "stdout",
     "output_type": "stream",
     "text": [
      "['IL8CRlPNHy5sGcWZkwBY', 'caZSPlKe5eUPEkxqwkjp']\n",
      "Now, doing RL for User:IL8CRlPNHy5sGcWZkwBY\n",
      "get User:IL8CRlPNHy5sGcWZkwBY answers: all\n",
      "notification to be implemented: Ate greens for 0 times, try to eat more greens\n",
      "Now, doing RL for User:caZSPlKe5eUPEkxqwkjp\n",
      "get User:caZSPlKe5eUPEkxqwkjp answers: all\n",
      "['asparagus', 5, 'No']\n",
      "['burger', 5, 'No']\n",
      "notification to be implemented: Ate greens for 1 times, try to eat more greens\n"
     ]
    }
   ],
   "source": [
    "RL_all_useres()"
   ]
  },
  {
   "cell_type": "code",
   "execution_count": 43,
   "id": "b60c9956",
   "metadata": {},
   "outputs": [
    {
     "ename": "KeyboardInterrupt",
     "evalue": "",
     "output_type": "error",
     "traceback": [
      "\u001b[0;31m---------------------------------------------------------------------------\u001b[0m",
      "\u001b[0;31mKeyboardInterrupt\u001b[0m                         Traceback (most recent call last)",
      "Cell \u001b[0;32mIn[43], line 12\u001b[0m\n\u001b[1;32m     10\u001b[0m \u001b[38;5;66;03m# Run the pending tasks in a loop for a fixed number of times\u001b[39;00m\n\u001b[1;32m     11\u001b[0m \u001b[38;5;28;01mwhile\u001b[39;00m \u001b[38;5;28;01mTrue\u001b[39;00m:\n\u001b[0;32m---> 12\u001b[0m     \u001b[43mschedule\u001b[49m\u001b[38;5;241;43m.\u001b[39;49m\u001b[43mrun_pending\u001b[49m\u001b[43m(\u001b[49m\u001b[43m)\u001b[49m\n",
      "File \u001b[0;32m~/opt/anaconda3/envs/reinlife/lib/python3.9/site-packages/schedule/__init__.py:822\u001b[0m, in \u001b[0;36mrun_pending\u001b[0;34m()\u001b[0m\n\u001b[1;32m    818\u001b[0m \u001b[38;5;28;01mdef\u001b[39;00m \u001b[38;5;21mrun_pending\u001b[39m() \u001b[38;5;241m-\u001b[39m\u001b[38;5;241m>\u001b[39m \u001b[38;5;28;01mNone\u001b[39;00m:\n\u001b[1;32m    819\u001b[0m \u001b[38;5;250m    \u001b[39m\u001b[38;5;124;03m\"\"\"Calls :meth:`run_pending <Scheduler.run_pending>` on the\u001b[39;00m\n\u001b[1;32m    820\u001b[0m \u001b[38;5;124;03m    :data:`default scheduler instance <default_scheduler>`.\u001b[39;00m\n\u001b[1;32m    821\u001b[0m \u001b[38;5;124;03m    \"\"\"\u001b[39;00m\n\u001b[0;32m--> 822\u001b[0m     \u001b[43mdefault_scheduler\u001b[49m\u001b[38;5;241;43m.\u001b[39;49m\u001b[43mrun_pending\u001b[49m\u001b[43m(\u001b[49m\u001b[43m)\u001b[49m\n",
      "File \u001b[0;32m~/opt/anaconda3/envs/reinlife/lib/python3.9/site-packages/schedule/__init__.py:99\u001b[0m, in \u001b[0;36mScheduler.run_pending\u001b[0;34m(self)\u001b[0m\n\u001b[1;32m     89\u001b[0m \u001b[38;5;250m\u001b[39m\u001b[38;5;124;03m\"\"\"\u001b[39;00m\n\u001b[1;32m     90\u001b[0m \u001b[38;5;124;03mRun all jobs that are scheduled to run.\u001b[39;00m\n\u001b[1;32m     91\u001b[0m \n\u001b[0;32m   (...)\u001b[0m\n\u001b[1;32m     96\u001b[0m \u001b[38;5;124;03mbetween but only once.\u001b[39;00m\n\u001b[1;32m     97\u001b[0m \u001b[38;5;124;03m\"\"\"\u001b[39;00m\n\u001b[1;32m     98\u001b[0m runnable_jobs \u001b[38;5;241m=\u001b[39m (job \u001b[38;5;28;01mfor\u001b[39;00m job \u001b[38;5;129;01min\u001b[39;00m \u001b[38;5;28mself\u001b[39m\u001b[38;5;241m.\u001b[39mjobs \u001b[38;5;28;01mif\u001b[39;00m job\u001b[38;5;241m.\u001b[39mshould_run)\n\u001b[0;32m---> 99\u001b[0m \u001b[38;5;28;01mfor\u001b[39;00m job \u001b[38;5;129;01min\u001b[39;00m \u001b[38;5;28;43msorted\u001b[39;49m\u001b[43m(\u001b[49m\u001b[43mrunnable_jobs\u001b[49m\u001b[43m)\u001b[49m:\n\u001b[1;32m    100\u001b[0m     \u001b[38;5;28mself\u001b[39m\u001b[38;5;241m.\u001b[39m_run_job(job)\n",
      "File \u001b[0;32m~/opt/anaconda3/envs/reinlife/lib/python3.9/site-packages/schedule/__init__.py:98\u001b[0m, in \u001b[0;36m<genexpr>\u001b[0;34m(.0)\u001b[0m\n\u001b[1;32m     88\u001b[0m \u001b[38;5;28;01mdef\u001b[39;00m \u001b[38;5;21mrun_pending\u001b[39m(\u001b[38;5;28mself\u001b[39m) \u001b[38;5;241m-\u001b[39m\u001b[38;5;241m>\u001b[39m \u001b[38;5;28;01mNone\u001b[39;00m:\n\u001b[1;32m     89\u001b[0m \u001b[38;5;250m    \u001b[39m\u001b[38;5;124;03m\"\"\"\u001b[39;00m\n\u001b[1;32m     90\u001b[0m \u001b[38;5;124;03m    Run all jobs that are scheduled to run.\u001b[39;00m\n\u001b[1;32m     91\u001b[0m \n\u001b[0;32m   (...)\u001b[0m\n\u001b[1;32m     96\u001b[0m \u001b[38;5;124;03m    between but only once.\u001b[39;00m\n\u001b[1;32m     97\u001b[0m \u001b[38;5;124;03m    \"\"\"\u001b[39;00m\n\u001b[0;32m---> 98\u001b[0m     runnable_jobs \u001b[38;5;241m=\u001b[39m (job \u001b[38;5;28;01mfor\u001b[39;00m job \u001b[38;5;129;01min\u001b[39;00m \u001b[38;5;28mself\u001b[39m\u001b[38;5;241m.\u001b[39mjobs \u001b[38;5;28;01mif\u001b[39;00m \u001b[43mjob\u001b[49m\u001b[38;5;241;43m.\u001b[39;49m\u001b[43mshould_run\u001b[49m)\n\u001b[1;32m     99\u001b[0m     \u001b[38;5;28;01mfor\u001b[39;00m job \u001b[38;5;129;01min\u001b[39;00m \u001b[38;5;28msorted\u001b[39m(runnable_jobs):\n\u001b[1;32m    100\u001b[0m         \u001b[38;5;28mself\u001b[39m\u001b[38;5;241m.\u001b[39m_run_job(job)\n",
      "File \u001b[0;32m~/opt/anaconda3/envs/reinlife/lib/python3.9/site-packages/schedule/__init__.py:674\u001b[0m, in \u001b[0;36mJob.should_run\u001b[0;34m(self)\u001b[0m\n\u001b[1;32m    670\u001b[0m \u001b[38;5;250m\u001b[39m\u001b[38;5;124;03m\"\"\"\u001b[39;00m\n\u001b[1;32m    671\u001b[0m \u001b[38;5;124;03m:return: ``True`` if the job should be run now.\u001b[39;00m\n\u001b[1;32m    672\u001b[0m \u001b[38;5;124;03m\"\"\"\u001b[39;00m\n\u001b[1;32m    673\u001b[0m \u001b[38;5;28;01massert\u001b[39;00m \u001b[38;5;28mself\u001b[39m\u001b[38;5;241m.\u001b[39mnext_run \u001b[38;5;129;01mis\u001b[39;00m \u001b[38;5;129;01mnot\u001b[39;00m \u001b[38;5;28;01mNone\u001b[39;00m, \u001b[38;5;124m\"\u001b[39m\u001b[38;5;124mmust run _schedule_next_run before\u001b[39m\u001b[38;5;124m\"\u001b[39m\n\u001b[0;32m--> 674\u001b[0m \u001b[38;5;28;01mreturn\u001b[39;00m \u001b[43mdatetime\u001b[49m\u001b[38;5;241;43m.\u001b[39;49m\u001b[43mdatetime\u001b[49m\u001b[38;5;241;43m.\u001b[39;49m\u001b[43mnow\u001b[49m\u001b[43m(\u001b[49m\u001b[43m)\u001b[49m \u001b[38;5;241m>\u001b[39m\u001b[38;5;241m=\u001b[39m \u001b[38;5;28mself\u001b[39m\u001b[38;5;241m.\u001b[39mnext_run\n",
      "\u001b[0;31mKeyboardInterrupt\u001b[0m: "
     ]
    }
   ],
   "source": [
    "import schedule\n",
    "import time\n",
    "\n",
    "def my_task():\n",
    "    print(\"Task executed!\")\n",
    "schedule.clear()\n",
    "# Schedule the task\n",
    "schedule.every(60).seconds.do(lambda: RL_all_useres('Foodeat12345'))\n",
    "\n",
    "# Run the pending tasks in a loop for a fixed number of times\n",
    "while True:\n",
    "    schedule.run_pending()\n"
   ]
  },
  {
   "cell_type": "code",
   "execution_count": null,
   "id": "e4162996",
   "metadata": {},
   "outputs": [],
   "source": [
    "import threading\n",
    "def run_schedule():\n",
    "    while True:\n",
    "        schedule.run_pending()\n",
    "        time.sleep(1)\n",
    "thread = threading.Thread(target=run_schedule)\n",
    "thread.start()\n",
    "while True:\n",
    "    time.sleep(1)"
   ]
  },
  {
   "cell_type": "code",
   "execution_count": 18,
   "id": "ead234b7",
   "metadata": {},
   "outputs": [
    {
     "name": "stderr",
     "output_type": "stream",
     "text": [
      "Job \"task1 (trigger: interval[0:00:10], next run at: 2023-10-22 13:28:54 EDT)\" raised an exception\n",
      "Traceback (most recent call last):\n",
      "  File \"/Users/boerzhang/opt/anaconda3/envs/reinlife/lib/python3.9/site-packages/apscheduler/executors/base.py\", line 125, in run_job\n",
      "    retval = job.func(*job.args, **job.kwargs)\n",
      "  File \"/var/folders/95/kqnc1xrn05zcmk1f2dtc1ldc0000gp/T/ipykernel_55175/1745338130.py\", line 9, in task1\n",
      "    if some_condition():\n",
      "NameError: name 'some_condition' is not defined\n"
     ]
    },
    {
     "name": "stdout",
     "output_type": "stream",
     "text": [
      "Task 1 executed!\n"
     ]
    },
    {
     "name": "stderr",
     "output_type": "stream",
     "text": [
      "Job \"task1 (trigger: interval[0:00:10], next run at: 2023-10-22 13:28:55 EDT)\" raised an exception\n",
      "Traceback (most recent call last):\n",
      "  File \"/Users/boerzhang/opt/anaconda3/envs/reinlife/lib/python3.9/site-packages/apscheduler/executors/base.py\", line 125, in run_job\n",
      "    retval = job.func(*job.args, **job.kwargs)\n",
      "  File \"/var/folders/95/kqnc1xrn05zcmk1f2dtc1ldc0000gp/T/ipykernel_55175/3787025921.py\", line 9, in task1\n",
      "    if some_condition():\n",
      "NameError: name 'some_condition' is not defined\n"
     ]
    },
    {
     "name": "stdout",
     "output_type": "stream",
     "text": [
      "Task 1 executed!\n"
     ]
    },
    {
     "name": "stderr",
     "output_type": "stream",
     "text": [
      "Job \"task1 (trigger: interval[0:00:10], next run at: 2023-10-22 13:29:04 EDT)\" raised an exception\n",
      "Traceback (most recent call last):\n",
      "  File \"/Users/boerzhang/opt/anaconda3/envs/reinlife/lib/python3.9/site-packages/apscheduler/executors/base.py\", line 125, in run_job\n",
      "    retval = job.func(*job.args, **job.kwargs)\n",
      "  File \"/var/folders/95/kqnc1xrn05zcmk1f2dtc1ldc0000gp/T/ipykernel_55175/1745338130.py\", line 9, in task1\n",
      "    if some_condition():\n",
      "NameError: name 'some_condition' is not defined\n"
     ]
    },
    {
     "name": "stdout",
     "output_type": "stream",
     "text": [
      "Task 1 executed!\n"
     ]
    },
    {
     "name": "stderr",
     "output_type": "stream",
     "text": [
      "Job \"task1 (trigger: interval[0:00:10], next run at: 2023-10-22 13:29:05 EDT)\" raised an exception\n",
      "Traceback (most recent call last):\n",
      "  File \"/Users/boerzhang/opt/anaconda3/envs/reinlife/lib/python3.9/site-packages/apscheduler/executors/base.py\", line 125, in run_job\n",
      "    retval = job.func(*job.args, **job.kwargs)\n",
      "  File \"/var/folders/95/kqnc1xrn05zcmk1f2dtc1ldc0000gp/T/ipykernel_55175/3787025921.py\", line 9, in task1\n",
      "    if some_condition():\n",
      "NameError: name 'some_condition' is not defined\n"
     ]
    },
    {
     "name": "stdout",
     "output_type": "stream",
     "text": [
      "Task 1 executed!\n"
     ]
    },
    {
     "ename": "KeyboardInterrupt",
     "evalue": "",
     "output_type": "error",
     "traceback": [
      "\u001b[0;31m---------------------------------------------------------------------------\u001b[0m",
      "\u001b[0;31mKeyboardInterrupt\u001b[0m                         Traceback (most recent call last)",
      "Cell \u001b[0;32mIn[18], line 16\u001b[0m\n\u001b[1;32m     11\u001b[0m scheduler\u001b[38;5;241m.\u001b[39madd_job(task1, \u001b[38;5;124m'\u001b[39m\u001b[38;5;124minterval\u001b[39m\u001b[38;5;124m'\u001b[39m, seconds\u001b[38;5;241m=\u001b[39m\u001b[38;5;241m10\u001b[39m, \u001b[38;5;28mid\u001b[39m\u001b[38;5;241m=\u001b[39m\u001b[38;5;124m'\u001b[39m\u001b[38;5;124mtask1_job\u001b[39m\u001b[38;5;124m'\u001b[39m)\n\u001b[1;32m     15\u001b[0m \u001b[38;5;28;01mwhile\u001b[39;00m \u001b[38;5;28;01mTrue\u001b[39;00m:\n\u001b[0;32m---> 16\u001b[0m     \u001b[43mtime\u001b[49m\u001b[38;5;241;43m.\u001b[39;49m\u001b[43msleep\u001b[49m\u001b[43m(\u001b[49m\u001b[38;5;241;43m1\u001b[39;49m\u001b[43m)\u001b[49m\n",
      "\u001b[0;31mKeyboardInterrupt\u001b[0m: "
     ]
    }
   ],
   "source": [
    "from apscheduler.schedulers.background import BackgroundScheduler\n",
    "from apscheduler.jobstores.base import ConflictingIdError\n",
    "import time\n",
    "scheduler = BackgroundScheduler()\n",
    "scheduler.start()\n",
    "def task1():\n",
    "    print(\"Task 1 executed!\")\n",
    "    if some_condition():\n",
    "        add_new_task()\n",
    "scheduler.add_job(task1, 'interval', seconds=10, id='task1_job')\n",
    "\n",
    "\n",
    "   \n",
    "while True:\n",
    "    time.sleep(1)"
   ]
  },
  {
   "cell_type": "code",
   "execution_count": 19,
   "id": "e22c2460",
   "metadata": {},
   "outputs": [
    {
     "name": "stderr",
     "output_type": "stream",
     "text": [
      "Job \"task1 (trigger: interval[0:00:10], next run at: 2023-10-22 13:29:34 EDT)\" raised an exception\n",
      "Traceback (most recent call last):\n",
      "  File \"/Users/boerzhang/opt/anaconda3/envs/reinlife/lib/python3.9/site-packages/apscheduler/executors/base.py\", line 125, in run_job\n",
      "    retval = job.func(*job.args, **job.kwargs)\n",
      "  File \"/var/folders/95/kqnc1xrn05zcmk1f2dtc1ldc0000gp/T/ipykernel_55175/1745338130.py\", line 9, in task1\n",
      "    if some_condition():\n",
      "NameError: name 'some_condition' is not defined\n"
     ]
    },
    {
     "name": "stdout",
     "output_type": "stream",
     "text": [
      "Task 1 executed!\n"
     ]
    },
    {
     "name": "stderr",
     "output_type": "stream",
     "text": [
      "Job \"task1 (trigger: interval[0:00:10], next run at: 2023-10-22 13:29:35 EDT)\" raised an exception\n",
      "Traceback (most recent call last):\n",
      "  File \"/Users/boerzhang/opt/anaconda3/envs/reinlife/lib/python3.9/site-packages/apscheduler/executors/base.py\", line 125, in run_job\n",
      "    retval = job.func(*job.args, **job.kwargs)\n",
      "  File \"/var/folders/95/kqnc1xrn05zcmk1f2dtc1ldc0000gp/T/ipykernel_55175/3787025921.py\", line 9, in task1\n",
      "    if some_condition():\n",
      "NameError: name 'some_condition' is not defined\n"
     ]
    },
    {
     "name": "stdout",
     "output_type": "stream",
     "text": [
      "Task 1 executed!\n"
     ]
    },
    {
     "ename": "KeyboardInterrupt",
     "evalue": "",
     "output_type": "error",
     "traceback": [
      "\u001b[0;31m---------------------------------------------------------------------------\u001b[0m",
      "\u001b[0;31mKeyboardInterrupt\u001b[0m                         Traceback (most recent call last)",
      "Cell \u001b[0;32mIn[19], line 2\u001b[0m\n\u001b[1;32m      1\u001b[0m \u001b[38;5;28;01mwhile\u001b[39;00m \u001b[38;5;28;01mTrue\u001b[39;00m:\n\u001b[0;32m----> 2\u001b[0m     \u001b[43mtime\u001b[49m\u001b[38;5;241;43m.\u001b[39;49m\u001b[43msleep\u001b[49m\u001b[43m(\u001b[49m\u001b[38;5;241;43m1\u001b[39;49m\u001b[43m)\u001b[49m\n",
      "\u001b[0;31mKeyboardInterrupt\u001b[0m: "
     ]
    }
   ],
   "source": [
    "while True:\n",
    "    time.sleep(1)"
   ]
  },
  {
   "cell_type": "code",
   "execution_count": 1,
   "id": "46ec46c1",
   "metadata": {},
   "outputs": [
    {
     "data": {
      "text/plain": [
       "<Popen: returncode: None args: ['ls']>"
      ]
     },
     "execution_count": 1,
     "metadata": {},
     "output_type": "execute_result"
    }
   ],
   "source": [
    "import subprocess\n",
    "\n",
    "subprocess.Popen(['ls'], stdout=subprocess.PIPE, stderr=subprocess.PIPE)"
   ]
  },
  {
   "cell_type": "code",
   "execution_count": null,
   "id": "200802fb",
   "metadata": {},
   "outputs": [],
   "source": []
  }
 ],
 "metadata": {
  "kernelspec": {
   "display_name": "reinlife",
   "language": "python",
   "name": "reinlife"
  },
  "language_info": {
   "codemirror_mode": {
    "name": "ipython",
    "version": 3
   },
   "file_extension": ".py",
   "mimetype": "text/x-python",
   "name": "python",
   "nbconvert_exporter": "python",
   "pygments_lexer": "ipython3",
   "version": "3.9.18"
  },
  "varInspector": {
   "cols": {
    "lenName": 16,
    "lenType": 16,
    "lenVar": 40
   },
   "kernels_config": {
    "python": {
     "delete_cmd_postfix": "",
     "delete_cmd_prefix": "del ",
     "library": "var_list.py",
     "varRefreshCmd": "print(var_dic_list())"
    },
    "r": {
     "delete_cmd_postfix": ") ",
     "delete_cmd_prefix": "rm(",
     "library": "var_list.r",
     "varRefreshCmd": "cat(var_dic_list()) "
    }
   },
   "types_to_exclude": [
    "module",
    "function",
    "builtin_function_or_method",
    "instance",
    "_Feature"
   ],
   "window_display": false
  }
 },
 "nbformat": 4,
 "nbformat_minor": 5
}
